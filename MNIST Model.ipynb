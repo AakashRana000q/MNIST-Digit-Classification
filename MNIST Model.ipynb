{
  "nbformat": 4,
  "nbformat_minor": 0,
  "metadata": {
    "colab": {
      "name": "MNIST My CNN.ipynb",
      "provenance": [],
      "collapsed_sections": []
    },
    "kernelspec": {
      "name": "python3",
      "display_name": "Python 3"
    },
    "language_info": {
      "name": "python"
    },
    "accelerator": "GPU"
  },
  "cells": [
    {
      "cell_type": "code",
      "metadata": {
        "id": "gJjM697PzGK4"
      },
      "source": [
        "import numpy as np\n",
        "import pandas as pd\n",
        "import torch\n",
        "import torchvision\n",
        "import torch.nn as nn\n",
        "import torch.nn.functional as F\n",
        "from torch.optim import lr_scheduler\n",
        "import matplotlib.pyplot as plt\n",
        "from torchvision import models,transforms\n",
        "from torch.utils.data import Dataset, DataLoader\n",
        "import os\n",
        "import cv2\n",
        "import glob\n",
        "from PIL import Image\n",
        "import PIL"
      ],
      "execution_count": null,
      "outputs": []
    },
    {
      "cell_type": "code",
      "metadata": {
        "colab": {
          "base_uri": "https://localhost:8080/"
        },
        "id": "BrL3Xy0rzL-7",
        "outputId": "b4f7206c-4c06-4713-d219-d40d7fca0bd4"
      },
      "source": [
        "from google.colab import drive\n",
        "drive.mount('/content/drive')\n"
      ],
      "execution_count": null,
      "outputs": [
        {
          "output_type": "stream",
          "name": "stdout",
          "text": [
            "Drive already mounted at /content/drive; to attempt to forcibly remount, call drive.mount(\"/content/drive\", force_remount=True).\n"
          ]
        }
      ]
    },
    {
      "cell_type": "code",
      "metadata": {
        "colab": {
          "base_uri": "https://localhost:8080/"
        },
        "id": "omlEW01I1Ftu",
        "outputId": "0093515e-8717-45d0-a7a3-8a220f1095c0"
      },
      "source": [
        "mnist_train = torchvision.datasets.MNIST('/content/drive/My Drive/Dataset/',train=True,transform=transforms.ToTensor())"
      ],
      "execution_count": null,
      "outputs": [
        {
          "output_type": "stream",
          "name": "stderr",
          "text": [
            "/usr/local/lib/python3.7/dist-packages/torchvision/datasets/mnist.py:498: UserWarning: The given NumPy array is not writeable, and PyTorch does not support non-writeable tensors. This means you can write to the underlying (supposedly non-writeable) NumPy array using the tensor. You may want to copy the array to protect its data or make it writeable before converting it to a tensor. This type of warning will be suppressed for the rest of this program. (Triggered internally at  /pytorch/torch/csrc/utils/tensor_numpy.cpp:180.)\n",
            "  return torch.from_numpy(parsed.astype(m[2], copy=False)).view(*s)\n"
          ]
        }
      ]
    },
    {
      "cell_type": "code",
      "metadata": {
        "id": "B3c-EO6i2HDi"
      },
      "source": [
        "img,label = mnist_train[0]"
      ],
      "execution_count": null,
      "outputs": []
    },
    {
      "cell_type": "code",
      "metadata": {
        "id": "Cy3p6vnp29Fn"
      },
      "source": [
        "img=img.view(28,28)"
      ],
      "execution_count": null,
      "outputs": []
    },
    {
      "cell_type": "code",
      "metadata": {
        "id": "m4oHR7YU87d1"
      },
      "source": [
        "def tensor_to_img(img):\n",
        "  img=img*255\n",
        "  img=np.array(img,dtype=np.uint8)\n",
        "  return PIL.Image.fromarray(img)\n",
        "def means(i):\n",
        "  ten,classe=mnist_train[i]\n",
        "  ten=ten.view(28,28)\n",
        "  return (ten,classe)"
      ],
      "execution_count": null,
      "outputs": []
    },
    {
      "cell_type": "code",
      "metadata": {
        "id": "pCW_pI9U9Qa-"
      },
      "source": [
        "image = tensor_to_img(img)"
      ],
      "execution_count": null,
      "outputs": []
    },
    {
      "cell_type": "code",
      "metadata": {
        "colab": {
          "base_uri": "https://localhost:8080/",
          "height": 45
        },
        "id": "gNl0mSte9753",
        "outputId": "7f6d9687-564c-4a09-8df0-47ec19c44ae3"
      },
      "source": [
        "display(image)"
      ],
      "execution_count": null,
      "outputs": [
        {
          "output_type": "display_data",
          "data": {
            "image/png": "[encoded data removed]",
            "text/plain": [
              "<PIL.Image.Image image mode=L size=28x28 at 0x7F9DBC4284D0>"
            ]
          },
          "metadata": {}
        }
      ]
    },
    {
      "cell_type": "code",
      "metadata": {
        "colab": {
          "base_uri": "https://localhost:8080/",
          "height": 80
        },
        "id": "q5ftbCMi-DnO",
        "outputId": "e3a51d8f-29d5-4869-c112-cdbb4f2ebbb8"
      },
      "source": [
        "img2,cll = mnist_train[4]\n",
        "img2=img2.view(28,28)\n",
        "display(tensor_to_img(img2))\n",
        "print(img2.shape)\n",
        "print(cll)"
      ],
      "execution_count": null,
      "outputs": [
        {
          "output_type": "display_data",
          "data": {
            "image/png": "[encoded data removed]",
            "text/plain": [
              "<PIL.Image.Image image mode=L size=28x28 at 0x7F9DBC3CD990>"
            ]
          },
          "metadata": {}
        },
        {
          "output_type": "stream",
          "name": "stdout",
          "text": [
            "torch.Size([28, 28])\n",
            "9\n"
          ]
        }
      ]
    },
    {
      "cell_type": "code",
      "metadata": {
        "id": "TUvPb6N1-RR7"
      },
      "source": [
        "ten_ten=torch.empty(60000,28,28)\n",
        "ten_classe=torch.empty(60000,1)\n",
        "for i in range(60000):\n",
        "  ten_ten[i],ten_classe[i]=means(i)\n",
        "\n"
      ],
      "execution_count": null,
      "outputs": []
    },
    {
      "cell_type": "code",
      "metadata": {
        "id": "aKyKHoYDC_un"
      },
      "source": [
        "ten_array=ten_ten.numpy()"
      ],
      "execution_count": null,
      "outputs": []
    },
    {
      "cell_type": "code",
      "metadata": {
        "id": "yLOvgI9oDHb0"
      },
      "source": [
        "mean=np.mean(ten_array)\n",
        "std=np.std(ten_array)"
      ],
      "execution_count": null,
      "outputs": []
    },
    {
      "cell_type": "code",
      "metadata": {
        "colab": {
          "base_uri": "https://localhost:8080/"
        },
        "id": "v4XwuxJiD92b",
        "outputId": "b9696a74-5691-4e15-a1f8-84d9f590d08e"
      },
      "source": [
        "print(mean)\n",
        "print(std)\n",
        "ten_classe"
      ],
      "execution_count": null,
      "outputs": [
        {
          "output_type": "stream",
          "name": "stdout",
          "text": [
            "0.13066062\n",
            "0.30810776\n"
          ]
        },
        {
          "output_type": "execute_result",
          "data": {
            "text/plain": [
              "tensor([[5.],\n",
              "        [0.],\n",
              "        [4.],\n",
              "        ...,\n",
              "        [5.],\n",
              "        [6.],\n",
              "        [8.]])"
            ]
          },
          "metadata": {},
          "execution_count": 13
        }
      ]
    },
    {
      "cell_type": "code",
      "metadata": {
        "id": "NzcEMRSS_5Oe"
      },
      "source": [
        "tenss=means(3)"
      ],
      "execution_count": null,
      "outputs": []
    },
    {
      "cell_type": "code",
      "metadata": {
        "id": "B9Wu9AV4EZWu"
      },
      "source": [
        "class reshape:\n",
        "  def __call__(self,sample):\n",
        "    inputs=sample\n",
        "    return inputs.view(28,28)"
      ],
      "execution_count": null,
      "outputs": []
    },
    {
      "cell_type": "code",
      "metadata": {
        "id": "Y2mhVmqoCmql"
      },
      "source": [
        "data_transforms=transforms.Compose([\n",
        "                                    transforms.ToTensor(),\n",
        "                                    transforms.Normalize((mean),(std))\n",
        "])"
      ],
      "execution_count": null,
      "outputs": []
    },
    {
      "cell_type": "code",
      "metadata": {
        "id": "pERNGZ3TDeia"
      },
      "source": [
        "mnist_train_fin = torchvision.datasets.MNIST('/content/drive/My Drive/Dataset/',train=True,transform=data_transforms)"
      ],
      "execution_count": null,
      "outputs": []
    },
    {
      "cell_type": "code",
      "metadata": {
        "id": "FYO65b5uDfSC"
      },
      "source": [
        "tensor,classuski=mnist_train_fin[i]"
      ],
      "execution_count": null,
      "outputs": []
    },
    {
      "cell_type": "code",
      "metadata": {
        "colab": {
          "base_uri": "https://localhost:8080/"
        },
        "id": "MgxEWc96XMq1",
        "outputId": "b6771021-4870-4c50-f824-7498b3fdbe9b"
      },
      "source": [
        "print(type(classuski))"
      ],
      "execution_count": null,
      "outputs": [
        {
          "output_type": "stream",
          "name": "stdout",
          "text": [
            "<class 'int'>\n"
          ]
        }
      ]
    },
    {
      "cell_type": "code",
      "metadata": {
        "colab": {
          "base_uri": "https://localhost:8080/"
        },
        "id": "qV9k127LJ17j",
        "outputId": "19c1a8de-60d1-4535-ff8f-88ffe49ebce2"
      },
      "source": [
        "tensor.shape"
      ],
      "execution_count": null,
      "outputs": [
        {
          "output_type": "execute_result",
          "data": {
            "text/plain": [
              "torch.Size([1, 28, 28])"
            ]
          },
          "metadata": {},
          "execution_count": 20
        }
      ]
    },
    {
      "cell_type": "code",
      "metadata": {
        "id": "ahRUDrV4LeMd"
      },
      "source": [
        "train_loader=DataLoader(dataset=mnist_train_fin,batch_size=128,shuffle=True)    "
      ],
      "execution_count": null,
      "outputs": []
    },
    {
      "cell_type": "code",
      "metadata": {
        "colab": {
          "base_uri": "https://localhost:8080/"
        },
        "id": "xSlprhC2NyIr",
        "outputId": "888dcfe2-3aa4-41a7-c56f-f04392df8408"
      },
      "source": [
        "train_loader"
      ],
      "execution_count": null,
      "outputs": [
        {
          "output_type": "execute_result",
          "data": {
            "text/plain": [
              "<torch.utils.data.dataloader.DataLoader at 0x7f9dbc376210>"
            ]
          },
          "metadata": {},
          "execution_count": 22
        }
      ]
    },
    {
      "cell_type": "code",
      "metadata": {
        "id": "BaEnx8-hN77u"
      },
      "source": [
        "device = torch.device(\"cuda:0\" if torch.cuda.is_available() else \"cpu\")"
      ],
      "execution_count": null,
      "outputs": []
    },
    {
      "cell_type": "code",
      "metadata": {
        "colab": {
          "base_uri": "https://localhost:8080/",
          "height": 35
        },
        "id": "AOtPv8XOOOPw",
        "outputId": "c91a8a87-6e3f-49df-903d-66df833a25bf"
      },
      "source": [
        "torch.cuda.get_device_name(0)"
      ],
      "execution_count": null,
      "outputs": [
        {
          "output_type": "execute_result",
          "data": {
            "application/vnd.google.colaboratory.intrinsic+json": {
              "type": "string"
            },
            "text/plain": [
              "'Tesla K80'"
            ]
          },
          "metadata": {},
          "execution_count": 24
        }
      ]
    },
    {
      "cell_type": "code",
      "metadata": {
        "id": "8vpww6WTO2yt"
      },
      "source": [
        "class ConvNet(nn.Module):\n",
        "  def __init__(self):\n",
        "    super(ConvNet,self).__init__()\n",
        "    self.conv1=nn.Conv2d(in_channels=1,out_channels=8,kernel_size=3)\n",
        "    self.pool=nn.MaxPool2d(2,2)\n",
        "    self.conv2=nn.Conv2d(in_channels=8,out_channels=16,kernel_size=3)\n",
        "    self.fc1=nn.Linear(1936,1000)\n",
        "    self.fc2=nn.Linear(1000,10)\n",
        "  def forward(self,x):\n",
        "    x=self.pool(F.relu(self.conv1(x)))\n",
        "    x=F.relu(self.conv2(x))\n",
        "    x=x.view(-1,1936)\n",
        "    x=F.relu(self.fc1(x))\n",
        "    x=self.fc2(x)\n",
        "    return x"
      ],
      "execution_count": null,
      "outputs": []
    },
    {
      "cell_type": "code",
      "metadata": {
        "id": "OEaAlS-XUy_G"
      },
      "source": [
        "model=ConvNet().to(device)"
      ],
      "execution_count": null,
      "outputs": []
    },
    {
      "cell_type": "code",
      "metadata": {
        "id": "XR6rqi00UISX"
      },
      "source": [
        "learning_rate=0.01\n",
        "criteria=nn.CrossEntropyLoss()\n",
        "optimizer=torch.optim.SGD(model.parameters(),lr=learning_rate)\n",
        "decay_scheduler=lr_scheduler.StepLR(optimizer,step_size=40,gamma=0.1)"
      ],
      "execution_count": null,
      "outputs": []
    },
    {
      "cell_type": "code",
      "metadata": {
        "id": "sR-bjwpNVKg3"
      },
      "source": [
        "num_epochs=40\n",
        "def train(model,criteria,optimizer,num_epochs,scheduler):\n",
        "    for epoch in range(num_epochs):\n",
        "        print(f'Epoch-{epoch}')\n",
        "        print('-'*10)\n",
        "        num=0\n",
        "        epoch_loss=0\n",
        "        n_samples=0\n",
        "        correct=0\n",
        "        for j,(inputs,labels) in enumerate(train_loader):\n",
        "            inputs=inputs.to(device)\n",
        "            labels=labels.to(device)\n",
        "            \n",
        "            output=model(inputs)\n",
        "            \n",
        "            _,preds=torch.max(output,1)\n",
        "            correct+=(preds == labels).sum().item()\n",
        "            n_samples += labels.size(0)\n",
        "\n",
        "            loss=criteria(output,labels)\n",
        "            optimizer.zero_grad()\n",
        "            loss.backward()\n",
        "            optimizer.step()\n",
        "            \n",
        "            epoch_loss+=loss.item()\n",
        "            \n",
        "            if(j%60==0):\n",
        "                print(f'Loss-{loss.item()}')\n",
        "            num=j\n",
        "        \n",
        "        print(f'Epoch Loss- {epoch_loss/num} Epoch Accuracy-{(correct/n_samples)*100}' )  \n",
        "        scheduler.step()\n",
        "    return model"
      ],
      "execution_count": null,
      "outputs": []
    },
    {
      "cell_type": "code",
      "metadata": {
        "colab": {
          "base_uri": "https://localhost:8080/"
        },
        "id": "iMEY1qGWVLFD",
        "outputId": "6b1397c9-7b37-4ebb-e419-f87d8202a679"
      },
      "source": [
        "model_trained=train(model,criteria,optimizer,num_epochs,decay_scheduler)"
      ],
      "execution_count": null,
      "outputs": [
        {
          "output_type": "stream",
          "name": "stdout",
          "text": [
            "Epoch-0\n",
            "----------\n",
            "Loss-2.310866355895996\n"
          ]
        },
        {
          "output_type": "stream",
          "name": "stderr",
          "text": [
            "/usr/local/lib/python3.7/dist-packages/torch/nn/functional.py:718: UserWarning: Named tensors and all their associated APIs are an experimental feature and subject to change. Please do not use them for anything important until they are released as stable. (Triggered internally at  /pytorch/c10/core/TensorImpl.h:1156.)\n",
            "  return torch.max_pool2d(input, kernel_size, stride, padding, dilation, ceil_mode)\n"
          ]
        },
        {
          "output_type": "stream",
          "name": "stdout",
          "text": [
            "Loss-1.0843969583511353\n",
            "Loss-0.446454793214798\n",
            "Loss-0.38808271288871765\n",
            "Loss-0.32258930802345276\n",
            "Loss-0.309639036655426\n",
            "Loss-0.32634487748146057\n",
            "Loss-0.25807738304138184\n",
            "Epoch Loss- 0.6061157671750611 Epoch Accuracy-83.09\n",
            "Epoch-1\n",
            "----------\n",
            "Loss-0.19431036710739136\n",
            "Loss-0.32078316807746887\n",
            "Loss-0.21052633225917816\n",
            "Loss-0.2246464341878891\n",
            "Loss-0.23378416895866394\n",
            "Loss-0.2540442943572998\n",
            "Loss-0.30494093894958496\n",
            "Loss-0.20685702562332153\n",
            "Epoch Loss- 0.23331279788389164 Epoch Accuracy-93.07666666666667\n",
            "Epoch-2\n",
            "----------\n",
            "Loss-0.25292009115219116\n",
            "Loss-0.16885247826576233\n",
            "Loss-0.22096681594848633\n",
            "Loss-0.28534162044525146\n",
            "Loss-0.1537814438343048\n",
            "Loss-0.13143512606620789\n",
            "Loss-0.1297464519739151\n",
            "Loss-0.1928417682647705\n",
            "Epoch Loss- 0.17126181088069564 Epoch Accuracy-94.99333333333333\n",
            "Epoch-3\n",
            "----------\n",
            "Loss-0.11291778832674026\n",
            "Loss-0.09560094028711319\n",
            "Loss-0.21943381428718567\n",
            "Loss-0.12026049196720123\n",
            "Loss-0.1472267359495163\n",
            "Loss-0.08861462771892548\n",
            "Loss-0.1495811939239502\n",
            "Loss-0.171619713306427\n",
            "Epoch Loss- 0.1364044445988714 Epoch Accuracy-96.00999999999999\n",
            "Epoch-4\n",
            "----------\n",
            "Loss-0.13798677921295166\n",
            "Loss-0.17843027412891388\n",
            "Loss-0.0677298754453659\n",
            "Loss-0.0835086777806282\n",
            "Loss-0.11832982301712036\n",
            "Loss-0.10721313953399658\n",
            "Loss-0.17171818017959595\n",
            "Loss-0.12226006388664246\n",
            "Epoch Loss- 0.1164210042080436 Epoch Accuracy-96.51833333333333\n",
            "Epoch-5\n",
            "----------\n",
            "Loss-0.06999526917934418\n",
            "Loss-0.04603040590882301\n",
            "Loss-0.08973447978496552\n",
            "Loss-0.0819648802280426\n",
            "Loss-0.15597178041934967\n",
            "Loss-0.021398724988102913\n",
            "Loss-0.08269788324832916\n",
            "Loss-0.08682384341955185\n",
            "Epoch Loss- 0.10016114386116974 Epoch Accuracy-96.99166666666666\n",
            "Epoch-6\n",
            "----------\n",
            "Loss-0.11138186603784561\n",
            "Loss-0.058278970420360565\n",
            "Loss-0.08764469623565674\n",
            "Loss-0.12149613350629807\n",
            "Loss-0.0693311020731926\n",
            "Loss-0.13919159770011902\n",
            "Loss-0.05247287079691887\n",
            "Loss-0.1036706417798996\n",
            "Epoch Loss- 0.08953291260533863 Epoch Accuracy-97.33833333333334\n",
            "Epoch-7\n",
            "----------\n",
            "Loss-0.12746377289295197\n",
            "Loss-0.026552727445960045\n",
            "Loss-0.1248517706990242\n",
            "Loss-0.05185344070196152\n",
            "Loss-0.1055007129907608\n",
            "Loss-0.08679486066102982\n",
            "Loss-0.03641480207443237\n",
            "Loss-0.07073476165533066\n",
            "Epoch Loss- 0.08066116534491889 Epoch Accuracy-97.54333333333334\n",
            "Epoch-8\n",
            "----------\n",
            "Loss-0.10329089313745499\n",
            "Loss-0.053782522678375244\n",
            "Loss-0.04975539818406105\n",
            "Loss-0.05769427865743637\n",
            "Loss-0.06479516625404358\n",
            "Loss-0.1359570473432541\n",
            "Loss-0.04907892644405365\n",
            "Loss-0.04558734968304634\n",
            "Epoch Loss- 0.07395764325275762 Epoch Accuracy-97.715\n",
            "Epoch-9\n",
            "----------\n",
            "Loss-0.1315292865037918\n",
            "Loss-0.028767496347427368\n",
            "Loss-0.060068536549806595\n",
            "Loss-0.14682355523109436\n",
            "Loss-0.04082107916474342\n",
            "Loss-0.08639563620090485\n",
            "Loss-0.02109123393893242\n",
            "Loss-0.12469290941953659\n",
            "Epoch Loss- 0.0674628603976602 Epoch Accuracy-97.90666666666667\n",
            "Epoch-10\n",
            "----------\n",
            "Loss-0.017484281212091446\n",
            "Loss-0.055083610117435455\n",
            "Loss-0.06963810324668884\n",
            "Loss-0.07911194860935211\n",
            "Loss-0.03839452564716339\n",
            "Loss-0.027389558032155037\n",
            "Loss-0.07698792219161987\n",
            "Loss-0.06483835726976395\n",
            "Epoch Loss- 0.0617478185842753 Epoch Accuracy-98.06666666666666\n",
            "Epoch-11\n",
            "----------\n",
            "Loss-0.07026716321706772\n",
            "Loss-0.05847993120551109\n",
            "Loss-0.07876361161470413\n",
            "Loss-0.05311007425189018\n",
            "Loss-0.030389439314603806\n",
            "Loss-0.17266666889190674\n",
            "Loss-0.07435672730207443\n",
            "Loss-0.02252039685845375\n",
            "Epoch Loss- 0.05693747904390479 Epoch Accuracy-98.24833333333333\n",
            "Epoch-12\n",
            "----------\n",
            "Loss-0.027652369812130928\n",
            "Loss-0.01704634539783001\n",
            "Loss-0.02850201725959778\n",
            "Loss-0.08458394557237625\n",
            "Loss-0.023735500872135162\n",
            "Loss-0.03544523939490318\n",
            "Loss-0.10823221504688263\n",
            "Loss-0.06798846274614334\n",
            "Epoch Loss- 0.05337943805532896 Epoch Accuracy-98.30499999999999\n",
            "Epoch-13\n",
            "----------\n",
            "Loss-0.05447043105959892\n",
            "Loss-0.03117220290005207\n",
            "Loss-0.03417180851101875\n",
            "Loss-0.05910941958427429\n",
            "Loss-0.11373672634363174\n",
            "Loss-0.05658800154924393\n",
            "Loss-0.08622360229492188\n",
            "Loss-0.016635902225971222\n",
            "Epoch Loss- 0.04869020755530104 Epoch Accuracy-98.47\n",
            "Epoch-14\n",
            "----------\n",
            "Loss-0.05949397757649422\n",
            "Loss-0.016934746876358986\n",
            "Loss-0.03389270231127739\n",
            "Loss-0.012585766613483429\n",
            "Loss-0.022874603047966957\n",
            "Loss-0.032979875802993774\n",
            "Loss-0.04266627877950668\n",
            "Loss-0.036288026720285416\n",
            "Epoch Loss- 0.044687052693170234 Epoch Accuracy-98.6\n",
            "Epoch-15\n",
            "----------\n",
            "Loss-0.0633108839392662\n",
            "Loss-0.0240374393761158\n",
            "Loss-0.040879566222429276\n",
            "Loss-0.01287421490997076\n",
            "Loss-0.04040371626615524\n",
            "Loss-0.04700539633631706\n",
            "Loss-0.12175896018743515\n",
            "Loss-0.027260320261120796\n",
            "Epoch Loss- 0.04310009751815158 Epoch Accuracy-98.68333333333334\n",
            "Epoch-16\n",
            "----------\n",
            "Loss-0.08209773898124695\n",
            "Loss-0.03119136020541191\n",
            "Loss-0.029764890670776367\n",
            "Loss-0.018501844257116318\n",
            "Loss-0.08287050575017929\n",
            "Loss-0.02803718112409115\n",
            "Loss-0.03905988112092018\n",
            "Loss-0.06716616451740265\n",
            "Epoch Loss- 0.039458031298465326 Epoch Accuracy-98.8\n",
            "Epoch-17\n",
            "----------\n",
            "Loss-0.05247736722230911\n",
            "Loss-0.014056743122637272\n",
            "Loss-0.08916371315717697\n",
            "Loss-0.048628710210323334\n",
            "Loss-0.00801766011863947\n",
            "Loss-0.028107134625315666\n",
            "Loss-0.04969364032149315\n",
            "Loss-0.07561306655406952\n",
            "Epoch Loss- 0.037219123549174324 Epoch Accuracy-98.84833333333334\n",
            "Epoch-18\n",
            "----------\n",
            "Loss-0.025482727214694023\n",
            "Loss-0.075165756046772\n",
            "Loss-0.022543037310242653\n",
            "Loss-0.028355548158288002\n",
            "Loss-0.08356157690286636\n",
            "Loss-0.1563059538602829\n",
            "Loss-0.013319132849574089\n",
            "Loss-0.01642068848013878\n",
            "Epoch Loss- 0.03536881708130081 Epoch Accuracy-98.905\n",
            "Epoch-19\n",
            "----------\n",
            "Loss-0.031287070363759995\n",
            "Loss-0.02359645441174507\n",
            "Loss-0.04592658951878548\n",
            "Loss-0.039877671748399734\n",
            "Loss-0.0606880746781826\n",
            "Loss-0.01734013482928276\n",
            "Loss-0.021644769236445427\n",
            "Loss-0.04203152284026146\n",
            "Epoch Loss- 0.031842153406459205 Epoch Accuracy-99.03833333333333\n",
            "Epoch-20\n",
            "----------\n",
            "Loss-0.029887663200497627\n",
            "Loss-0.03365229815244675\n",
            "Loss-0.024538381025195122\n",
            "Loss-0.023687150329351425\n",
            "Loss-0.009490427561104298\n",
            "Loss-0.012049135752022266\n",
            "Loss-0.04223424196243286\n",
            "Loss-0.021551771089434624\n",
            "Epoch Loss- 0.029135998365574747 Epoch Accuracy-99.1\n",
            "Epoch-21\n",
            "----------\n",
            "Loss-0.024749020114541054\n",
            "Loss-0.032265253365039825\n",
            "Loss-0.022241372615098953\n",
            "Loss-0.012496388517320156\n",
            "Loss-0.019547350704669952\n",
            "Loss-0.04472890496253967\n",
            "Loss-0.012360862456262112\n",
            "Loss-0.03297240287065506\n",
            "Epoch Loss- 0.0279011193709647 Epoch Accuracy-99.15\n",
            "Epoch-22\n",
            "----------\n",
            "Loss-0.0677773728966713\n",
            "Loss-0.06236526370048523\n",
            "Loss-0.01580333337187767\n",
            "Loss-0.0069926343858242035\n",
            "Loss-0.00431397557258606\n",
            "Loss-0.016803991049528122\n",
            "Loss-0.01383998617529869\n",
            "Loss-0.071790412068367\n",
            "Epoch Loss- 0.02566119126127794 Epoch Accuracy-99.23833333333333\n",
            "Epoch-23\n",
            "----------\n",
            "Loss-0.01084449514746666\n",
            "Loss-0.021140823140740395\n",
            "Loss-0.01797431707382202\n",
            "Loss-0.07858243584632874\n",
            "Loss-0.02023322507739067\n",
            "Loss-0.037394482642412186\n",
            "Loss-0.061706751585006714\n",
            "Loss-0.016680466011166573\n",
            "Epoch Loss- 0.023716157008237086 Epoch Accuracy-99.29833333333333\n",
            "Epoch-24\n",
            "----------\n",
            "Loss-0.006823154632002115\n",
            "Loss-0.019759466871619225\n",
            "Loss-0.0031297989189624786\n",
            "Loss-0.005664514377713203\n",
            "Loss-0.03494079038500786\n",
            "Loss-0.01295146718621254\n",
            "Loss-0.007866928353905678\n",
            "Loss-0.04211288318037987\n",
            "Epoch Loss- 0.022350374321178652 Epoch Accuracy-99.32833333333333\n",
            "Epoch-25\n",
            "----------\n",
            "Loss-0.02363424561917782\n",
            "Loss-0.028018610551953316\n",
            "Loss-0.008436047472059727\n",
            "Loss-0.010284610092639923\n",
            "Loss-0.048210080713033676\n",
            "Loss-0.002910149749368429\n",
            "Loss-0.013270847499370575\n",
            "Loss-0.023058215156197548\n",
            "Epoch Loss- 0.021141892063737903 Epoch Accuracy-99.36333333333334\n",
            "Epoch-26\n",
            "----------\n",
            "Loss-0.03111976385116577\n",
            "Loss-0.0028525402303785086\n",
            "Loss-0.011593121103942394\n",
            "Loss-0.021532343700528145\n",
            "Loss-0.017153888940811157\n",
            "Loss-0.019403794780373573\n",
            "Loss-0.031281352043151855\n",
            "Loss-0.016414262354373932\n",
            "Epoch Loss- 0.018814715826446112 Epoch Accuracy-99.47166666666666\n",
            "Epoch-27\n",
            "----------\n",
            "Loss-0.008593922480940819\n",
            "Loss-0.016452372074127197\n",
            "Loss-0.032601866871118546\n",
            "Loss-0.019962886348366737\n",
            "Loss-0.039114076644182205\n",
            "Loss-0.01953558623790741\n",
            "Loss-0.017644453793764114\n",
            "Loss-0.00833022128790617\n",
            "Epoch Loss- 0.018552235205026947 Epoch Accuracy-99.45\n",
            "Epoch-28\n",
            "----------\n",
            "Loss-0.017731739208102226\n",
            "Loss-0.0029392139986157417\n",
            "Loss-0.008899474516510963\n",
            "Loss-0.0029467192944139242\n",
            "Loss-0.012495706789195538\n",
            "Loss-0.019587047398090363\n",
            "Loss-0.037890344858169556\n",
            "Loss-0.014072263613343239\n",
            "Epoch Loss- 0.016641675165700667 Epoch Accuracy-99.50333333333333\n",
            "Epoch-29\n",
            "----------\n",
            "Loss-0.010043195448815823\n",
            "Loss-0.009234879165887833\n",
            "Loss-0.01620270311832428\n",
            "Loss-0.006224315147846937\n",
            "Loss-0.0023281769827008247\n",
            "Loss-0.009257091209292412\n",
            "Loss-0.041062258183956146\n",
            "Loss-0.002916505793109536\n",
            "Epoch Loss- 0.015572526578805868 Epoch Accuracy-99.575\n",
            "Epoch-30\n",
            "----------\n",
            "Loss-0.042388252913951874\n",
            "Loss-0.016539188101887703\n",
            "Loss-0.009339223615825176\n",
            "Loss-0.05553397536277771\n",
            "Loss-0.011202409863471985\n",
            "Loss-0.010085001587867737\n",
            "Loss-0.011442478746175766\n",
            "Loss-0.01734684780240059\n",
            "Epoch Loss- 0.014649223202429553 Epoch Accuracy-99.58833333333334\n",
            "Epoch-31\n",
            "----------\n",
            "Loss-0.00309232110157609\n",
            "Loss-0.026220697909593582\n",
            "Loss-0.004095154814422131\n",
            "Loss-0.012365086004137993\n",
            "Loss-0.012775897979736328\n",
            "Loss-0.016392063349485397\n",
            "Loss-0.010160230100154877\n",
            "Loss-0.005769398994743824\n",
            "Epoch Loss- 0.014306060207159951 Epoch Accuracy-99.625\n",
            "Epoch-32\n",
            "----------\n",
            "Loss-0.005312204826623201\n",
            "Loss-0.002896297490224242\n",
            "Loss-0.009072677232325077\n",
            "Loss-0.00944332405924797\n",
            "Loss-0.007278009317815304\n",
            "Loss-0.006641746032983065\n",
            "Loss-0.028118770569562912\n",
            "Loss-0.027144255116581917\n",
            "Epoch Loss- 0.01266775707118253 Epoch Accuracy-99.65833333333333\n",
            "Epoch-33\n",
            "----------\n",
            "Loss-0.015867028385400772\n",
            "Loss-0.00332829263061285\n",
            "Loss-0.007967115379869938\n",
            "Loss-0.003514009527862072\n",
            "Loss-0.021199489012360573\n",
            "Loss-0.011407261714339256\n",
            "Loss-0.029411422088742256\n",
            "Loss-0.004134722054004669\n",
            "Epoch Loss- 0.012423670363391582 Epoch Accuracy-99.675\n",
            "Epoch-34\n",
            "----------\n",
            "Loss-0.005315948743373156\n",
            "Loss-0.002818712266162038\n",
            "Loss-0.005967726465314627\n",
            "Loss-0.033871840685606\n",
            "Loss-0.003654489293694496\n",
            "Loss-0.010589217767119408\n",
            "Loss-0.0029142750427126884\n",
            "Loss-0.003722655586898327\n",
            "Epoch Loss- 0.011604915215443764 Epoch Accuracy-99.67666666666666\n",
            "Epoch-35\n",
            "----------\n",
            "Loss-0.007478996645659208\n",
            "Loss-0.0024939430877566338\n",
            "Loss-0.004172897431999445\n",
            "Loss-0.004403693601489067\n",
            "Loss-0.006723830476403236\n",
            "Loss-0.0031425748020410538\n",
            "Loss-0.013490190729498863\n",
            "Loss-0.0037892756517976522\n",
            "Epoch Loss- 0.010565852320257526 Epoch Accuracy-99.72166666666666\n",
            "Epoch-36\n",
            "----------\n",
            "Loss-0.004178108647465706\n",
            "Loss-0.00775106018409133\n",
            "Loss-0.006217930465936661\n",
            "Loss-0.007273159921169281\n",
            "Loss-0.007911036722362041\n",
            "Loss-0.013125885277986526\n",
            "Loss-0.007440417539328337\n",
            "Loss-0.019106419757008553\n",
            "Epoch Loss- 0.009938253943000434 Epoch Accuracy-99.74166666666666\n",
            "Epoch-37\n",
            "----------\n",
            "Loss-0.012559738010168076\n",
            "Loss-0.0062337759882211685\n",
            "Loss-0.010664200410246849\n",
            "Loss-0.001221707439981401\n",
            "Loss-0.010915971361100674\n",
            "Loss-0.004358877893537283\n",
            "Loss-0.00363070797175169\n",
            "Loss-0.009038825519382954\n",
            "Epoch Loss- 0.009112193220435308 Epoch Accuracy-99.78333333333333\n",
            "Epoch-38\n",
            "----------\n",
            "Loss-0.00246269628405571\n",
            "Loss-0.004692255053669214\n",
            "Loss-0.013957195915281773\n",
            "Loss-0.004651577677577734\n",
            "Loss-0.004306168761104345\n",
            "Loss-0.0077393692918121815\n",
            "Loss-0.004777052905410528\n",
            "Loss-0.011963827535510063\n",
            "Epoch Loss- 0.008124131357044073 Epoch Accuracy-99.80499999999999\n",
            "Epoch-39\n",
            "----------\n",
            "Loss-0.003424949012696743\n",
            "Loss-0.0021723660174757242\n",
            "Loss-0.004717179108411074\n",
            "Loss-0.0035266303457319736\n",
            "Loss-0.020853420719504356\n",
            "Loss-0.003268663538619876\n",
            "Loss-0.012987337075173855\n",
            "Loss-0.004034867975860834\n",
            "Epoch Loss- 0.007622981672665267 Epoch Accuracy-99.82833333333333\n"
          ]
        }
      ]
    },
    {
      "cell_type": "code",
      "metadata": {
        "id": "O7eZoNt5VLMg"
      },
      "source": [
        "mnist_test = torchvision.datasets.MNIST('/content/drive/My Drive/Dataset/',download=True,train=False,transform=transforms.ToTensor())"
      ],
      "execution_count": null,
      "outputs": []
    },
    {
      "cell_type": "code",
      "metadata": {
        "colab": {
          "base_uri": "https://localhost:8080/"
        },
        "id": "XWTVJLAV4QOS",
        "outputId": "b7c8148c-21dc-4630-f935-866317436f9e"
      },
      "source": [
        "mnist_test"
      ],
      "execution_count": null,
      "outputs": [
        {
          "output_type": "execute_result",
          "data": {
            "text/plain": [
              "Dataset MNIST\n",
              "    Number of datapoints: 10000\n",
              "    Root location: /content/drive/My Drive/Dataset/\n",
              "    Split: Test\n",
              "    StandardTransform\n",
              "Transform: ToTensor()"
            ]
          },
          "metadata": {},
          "execution_count": 31
        }
      ]
    },
    {
      "cell_type": "code",
      "metadata": {
        "id": "cEXQho1Q4TWf"
      },
      "source": [
        "mnist_test_fin = torchvision.datasets.MNIST('/content/drive/My Drive/Dataset/',train=False,transform=data_transforms)"
      ],
      "execution_count": null,
      "outputs": []
    },
    {
      "cell_type": "code",
      "metadata": {
        "colab": {
          "base_uri": "https://localhost:8080/"
        },
        "id": "IDDEwPQ64g-i",
        "outputId": "6e6d37ec-d957-494c-cf2b-b066fc737ad1"
      },
      "source": [
        "mnist_test_fin"
      ],
      "execution_count": null,
      "outputs": [
        {
          "output_type": "execute_result",
          "data": {
            "text/plain": [
              "Dataset MNIST\n",
              "    Number of datapoints: 10000\n",
              "    Root location: /content/drive/My Drive/Dataset/\n",
              "    Split: Test\n",
              "    StandardTransform\n",
              "Transform: Compose(\n",
              "               ToTensor()\n",
              "               Normalize(mean=0.13066062331199646, std=0.30810776352882385)\n",
              "           )"
            ]
          },
          "metadata": {},
          "execution_count": 33
        }
      ]
    },
    {
      "cell_type": "code",
      "metadata": {
        "id": "qIUN8cz-4iwT"
      },
      "source": [
        "test_loader=DataLoader(dataset=mnist_test_fin,batch_size=128)"
      ],
      "execution_count": null,
      "outputs": []
    },
    {
      "cell_type": "code",
      "metadata": {
        "colab": {
          "base_uri": "https://localhost:8080/"
        },
        "id": "k6qW4YXJ46lX",
        "outputId": "d5ce10fe-3fde-4e5e-f6c9-5bc0992d6167"
      },
      "source": [
        "test_loader"
      ],
      "execution_count": null,
      "outputs": [
        {
          "output_type": "execute_result",
          "data": {
            "text/plain": [
              "<torch.utils.data.dataloader.DataLoader at 0x7f9dba266250>"
            ]
          },
          "metadata": {},
          "execution_count": 35
        }
      ]
    },
    {
      "cell_type": "code",
      "metadata": {
        "id": "KyhxRBVF5NmW"
      },
      "source": [
        "test_correct=0\n",
        "test_n_samples=0\n",
        "with torch.no_grad():\n",
        "  for (inps,labs) in test_loader:\n",
        "    inps=inps.to(device)\n",
        "    labs=labs.to(device) \n",
        "  \n",
        "    outs=model(inps)\n",
        "    _,predss=torch.max(outs,1)\n",
        "    \n",
        "    test_correct += (predss==labs).sum().item()    \n",
        "    test_n_samples += labs.size(0)\n",
        "\n",
        "\n",
        "\n"
      ],
      "execution_count": null,
      "outputs": []
    },
    {
      "cell_type": "code",
      "metadata": {
        "colab": {
          "base_uri": "https://localhost:8080/"
        },
        "id": "Dfxq2NfN77aE",
        "outputId": "9726545e-3382-4bfc-a24c-5a49640b2b59"
      },
      "source": [
        "print(100*(test_correct/test_n_samples))"
      ],
      "execution_count": null,
      "outputs": [
        {
          "output_type": "stream",
          "name": "stdout",
          "text": [
            "98.33\n"
          ]
        }
      ]
    },
    {
      "cell_type": "code",
      "metadata": {
        "id": "VDzUazuP8Y3Q"
      },
      "source": [
        ""
      ],
      "execution_count": null,
      "outputs": []
    }
  ]
}